{
 "cells": [
  {
   "attachments": {},
   "cell_type": "markdown",
   "metadata": {},
   "source": [
    "<p align=\"center\">\n",
    "  <img src=\"/media/andres-campos/Archivos_Ubuntu/UCentral_Maestria/2023/Diplomado_Metodos_UCentral/data/images/imagen_ucentral.jpg\" alt=\"logo_Ucentral\" width=\"600px\" height=\"350px\">\n",
    "</p>\n"
   ]
  },
  {
   "attachments": {},
   "cell_type": "markdown",
   "metadata": {},
   "source": [
    "## ___Contenido temático Diplomado: Métodos Estadísticos para el Análisis de Datos___"
   ]
  },
  {
   "attachments": {},
   "cell_type": "markdown",
   "metadata": {},
   "source": [
    "### ___Módulo 1. Análisis descriptivo de datos (20 horas)___\n",
    "- Conceptos básicos\n",
    "- Variables\n",
    "- Distribución de frecuencia para variables\n",
    "- Gráficos\n",
    "- Medidas de tendencia Central: media aritmética, mediana, moda\n",
    "- Medidas de Posición: Percentiles\n",
    "- Medidas de Dispersión: Rango, varianza, desviación estándar, coeficiente de variación\n",
    "- Distribuciones de frecuencias conjuntas"
   ]
  },
  {
   "attachments": {},
   "cell_type": "markdown",
   "metadata": {},
   "source": [
    "### ___Módulo 2. Teoría de probabilidad (48 horas)___\n",
    "\n",
    "- Teoría básica de conjuntos.\n",
    "- Experimentos aleatorios y espacio muestral.\n",
    "- Eventos, probabilidad de un evento.\n",
    "- Propiedades básicas de probabilidad.\n",
    "- Probabilidad condicional, independencia.\n",
    "- Teorema de Bayes.\n",
    "- Concepto de variable aleatoria.\n",
    "- Distribuciones discretas de probabilidad.\n",
    "- Distribuciones continúas de probabilidad.\n",
    "- Valor esperado de una variable aleatoria.\n",
    "- Varianza de una variable aleatoria.\n",
    "- Covarianza y correlación de variables aleatorias.\n",
    "- Algunas distribuciones de probabilidad.\n",
    "- Distribución discreta uniforme, binomial, hipergeométrica, Poisson y normal.\n",
    "- Teorema Central del Límite"
   ]
  }
 ],
 "metadata": {
  "language_info": {
   "name": "python"
  },
  "orig_nbformat": 4
 },
 "nbformat": 4,
 "nbformat_minor": 2
}
