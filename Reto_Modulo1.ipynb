{
 "cells": [
  {
   "cell_type": "markdown",
   "metadata": {},
   "source": [
    "## ***Análisis descriptivo del conjunto de datos del Titanic utilizando Python***"
   ]
  },
  {
   "cell_type": "markdown",
   "metadata": {},
   "source": [
    "### ***Descripción:***\n",
    "\n",
    "En esta reto, se te solicita realizar un análisis descriptivo del conjunto de datos del Titanic utilizando Python y diversas bibliotecas como pandas, matplotlib, seaborn y plotly express. El objetivo es explorar y comprender mejor los datos relacionados con los pasajeros del [Titanic](https://github.com/mwaskom/seaborn-data/blob/master/titanic.csv), utilizando técnicas de estadística descriptiva y visualización.\n"
   ]
  },
  {
   "cell_type": "markdown",
   "metadata": {},
   "source": [
    "#### **Instrucciones:**\n",
    "\n",
    "Importa las bibliotecas necesarias: pandas, matplotlib, seaborn y plotly express.\n",
    "Carga el conjunto de datos del Titanic en un DataFrame de pandas.\n",
    "Muestra las primeras filas del DataFrame para familiarizarte con la estructura de los datos.\n",
    "Realiza una exploración inicial de los datos para comprender los diferentes atributos y sus tipos.\n",
    "Realiza una limpieza de datos si es necesario, como manejar valores faltantes o datos erróneos.\n",
    "Resuelve los siguientes ejercicios de estadística descriptiva utilizando el conjunto de datos:\n",
    "\n",
    "a) Calcula el número total de pasajeros en el conjunto de datos.\n",
    "\n",
    "b) Obtén la cantidad de pasajeros que sobrevivieron y los que no sobrevivieron.\n",
    "\n",
    "c) Grafica un gráfico de barras que muestre la cantidad de pasajeros por sexo.\n",
    "\n",
    "d) Calcula la edad promedio de los pasajeros.\n",
    "\n",
    "e) Identifica la distribución de las edades de los pasajeros mediante un histograma.\n",
    "\n",
    "f) Calcula la cantidad de pasajeros en cada clase de pasajero (1ª, 2ª, 3ª).\n",
    "\n",
    "g) Crea un gráfico de torta que muestre la proporción de pasajeros en cada clase.\n",
    "\n",
    "h) Analiza la relación entre la clase de pasajero y la supervivencia utilizando un gráfico de barras apiladas.\n",
    "\n",
    "i) Calcula la tarifa promedio pagada por los pasajeros.\n",
    "\n",
    "j) Identifica la distribución de las tarifas pagadas mediante un diagrama de caja (boxplot).\n",
    "\n",
    "k) Analiza la relación entre la edad y la supervivencia utilizando un diagrama de violín (violin plot).\n",
    "\n",
    "l) Calcula el número de pasajeros que embarcaron en cada puerto (Cherbourg, Queenstown, Southampton).\n",
    "\n",
    "m) Crea un gráfico de barras que muestre la cantidad de pasajeros que sobrevivieron y no sobrevivieron en cada puerto de embarque.\n"
   ]
  },
  {
   "cell_type": "markdown",
   "metadata": {},
   "source": [
    "#### ***Dar respuesta a las siguientes preguntas:***\n",
    "\n",
    "\n",
    "- ¿Cuál es la proporción de supervivencia por sexo y clase de pasajero?\n",
    "- ¿Cuál es la cantidad total de pasajeros que sobrevivieron o no sobrevivieron en función de su edad y puerto de embarque?\n",
    "- ¿Cuál es la edad promedio de los pasajeros en cada clase de pasajero y sexo?\n",
    "- ¿Cuál es la tarifa promedio pagada por los pasajeros en cada clase y puerto de embarque?\n",
    "- ¿Cuál es la proporción de supervivencia de los pasajeros en función de su edad y clase de pasajero?\n",
    "- ¿Cuántos pasajeros sobrevivieron o no sobrevivieron en función de su sexo y si viajaban solos o con familiares?\n",
    "- ¿Cuál es la proporción de supervivencia de los pasajeros en función de su clase de pasajero y si viajaban solos o con familiares?\n",
    "- ¿Cuál es la cantidad total de pasajeros por rango de edad y puerto de embarque?\n",
    "- ¿Cuál es la tarifa promedio pagada por los pasajeros en función de su clase de pasajero y si viajaban solos o con familiares?\n",
    "- ¿Cuál es la proporción de supervivencia por edad y sexo, considerando si los pasajeros viajaban solos o con familiares?\n",
    "\n",
    "Presenta tus resultados utilizando gráficos y tablas, y proporciona una interpretación adecuada de los hallazgos. Concluye tu análisis destacando las principales características y tendencias observadas en el conjunto de datos del Titanic."
   ]
  }
 ],
 "metadata": {
  "language_info": {
   "name": "python"
  },
  "orig_nbformat": 4
 },
 "nbformat": 4,
 "nbformat_minor": 2
}
